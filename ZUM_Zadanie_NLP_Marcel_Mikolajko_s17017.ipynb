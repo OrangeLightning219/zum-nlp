{
  "nbformat": 4,
  "nbformat_minor": 0,
  "metadata": {
    "colab": {
      "name": "ZUM_Zadanie_NLP_Marcel_Mikolajko_s17017.ipynb",
      "provenance": [],
      "collapsed_sections": []
    },
    "kernelspec": {
      "name": "python3",
      "display_name": "Python 3"
    },
    "language_info": {
      "name": "python"
    },
    "accelerator": "GPU"
  },
  "cells": [
    {
      "cell_type": "code",
      "execution_count": null,
      "metadata": {
        "id": "MaTzDAKHUQvh"
      },
      "outputs": [],
      "source": [
        "!python -m pip install spacy==2.3.2 -q\n",
        "!python -m spacy download pl_core_news_md\n",
        "!python -m spacy download en_core_web_md"
      ]
    },
    {
      "cell_type": "code",
      "source": [
        "import re\n",
        "import numpy as np\n",
        "import pandas as pd\n",
        "import string\n",
        "\n",
        "import seaborn as sns\n",
        "import matplotlib.pyplot as plt\n",
        "\n",
        "import nltk\n",
        "from nltk.stem import WordNetLemmatizer\n",
        "from nltk.tokenize.treebank import TreebankWordDetokenizer\n",
        "import spacy\n",
        "\n",
        "from sklearn.svm import LinearSVC\n",
        "from sklearn.naive_bayes import BernoulliNB\n",
        "from sklearn.linear_model import LogisticRegression\n",
        "from sklearn.model_selection import train_test_split\n",
        "from sklearn.feature_extraction.text import TfidfVectorizer\n",
        "from sklearn.metrics import confusion_matrix, classification_report\n",
        "\n",
        "import tensorflow as tf\n",
        "import keras\n",
        "from keras.models import Sequential\n",
        "from keras import layers\n",
        "from tensorflow.keras.optimizers import RMSprop, Adam\n",
        "from keras.preprocessing.text import Tokenizer\n",
        "from keras.preprocessing.sequence import pad_sequences\n",
        "from keras import regularizers\n",
        "from keras import backend as K\n",
        "from keras.callbacks import ModelCheckpoint"
      ],
      "metadata": {
        "id": "X6kpjVlsVwGi"
      },
      "execution_count": 42,
      "outputs": []
    },
    {
      "cell_type": "markdown",
      "source": [
        "#Ładowanie i preprocessing danych\n",
        "\n",
        "Wykorzystany zbiór: https://www.kaggle.com/datasets/edqian/twitter-climate-change-sentiment-dataset?resource=download"
      ],
      "metadata": {
        "id": "V-lcKpR7ila8"
      }
    },
    {
      "cell_type": "code",
      "source": [
        "DATASET_COLUMNS=['sentiment','message','tweetid']\n",
        "df = pd.read_csv('twitter_sentiment_data.csv', names=DATASET_COLUMNS)[1:]\n",
        "df.head()"
      ],
      "metadata": {
        "colab": {
          "base_uri": "https://localhost:8080/",
          "height": 206
        },
        "id": "GFNn45STWHxj",
        "outputId": "c7369580-1d4a-4525-f00a-30604c8e60eb"
      },
      "execution_count": 2,
      "outputs": [
        {
          "output_type": "execute_result",
          "data": {
            "text/plain": [
              "  sentiment                                            message  \\\n",
              "1        -1  @tiniebeany climate change is an interesting h...   \n",
              "2         1  RT @NatGeoChannel: Watch #BeforeTheFlood right...   \n",
              "3         1  Fabulous! Leonardo #DiCaprio's film on #climat...   \n",
              "4         1  RT @Mick_Fanning: Just watched this amazing do...   \n",
              "5         2  RT @cnalive: Pranita Biswasi, a Lutheran from ...   \n",
              "\n",
              "              tweetid  \n",
              "1  792927353886371840  \n",
              "2  793124211518832641  \n",
              "3  793124402388832256  \n",
              "4  793124635873275904  \n",
              "5  793125156185137153  "
            ],
            "text/html": [
              "\n",
              "  <div id=\"df-48d2b05d-329d-4ee6-8b90-1f4b4d954cd0\">\n",
              "    <div class=\"colab-df-container\">\n",
              "      <div>\n",
              "<style scoped>\n",
              "    .dataframe tbody tr th:only-of-type {\n",
              "        vertical-align: middle;\n",
              "    }\n",
              "\n",
              "    .dataframe tbody tr th {\n",
              "        vertical-align: top;\n",
              "    }\n",
              "\n",
              "    .dataframe thead th {\n",
              "        text-align: right;\n",
              "    }\n",
              "</style>\n",
              "<table border=\"1\" class=\"dataframe\">\n",
              "  <thead>\n",
              "    <tr style=\"text-align: right;\">\n",
              "      <th></th>\n",
              "      <th>sentiment</th>\n",
              "      <th>message</th>\n",
              "      <th>tweetid</th>\n",
              "    </tr>\n",
              "  </thead>\n",
              "  <tbody>\n",
              "    <tr>\n",
              "      <th>1</th>\n",
              "      <td>-1</td>\n",
              "      <td>@tiniebeany climate change is an interesting h...</td>\n",
              "      <td>792927353886371840</td>\n",
              "    </tr>\n",
              "    <tr>\n",
              "      <th>2</th>\n",
              "      <td>1</td>\n",
              "      <td>RT @NatGeoChannel: Watch #BeforeTheFlood right...</td>\n",
              "      <td>793124211518832641</td>\n",
              "    </tr>\n",
              "    <tr>\n",
              "      <th>3</th>\n",
              "      <td>1</td>\n",
              "      <td>Fabulous! Leonardo #DiCaprio's film on #climat...</td>\n",
              "      <td>793124402388832256</td>\n",
              "    </tr>\n",
              "    <tr>\n",
              "      <th>4</th>\n",
              "      <td>1</td>\n",
              "      <td>RT @Mick_Fanning: Just watched this amazing do...</td>\n",
              "      <td>793124635873275904</td>\n",
              "    </tr>\n",
              "    <tr>\n",
              "      <th>5</th>\n",
              "      <td>2</td>\n",
              "      <td>RT @cnalive: Pranita Biswasi, a Lutheran from ...</td>\n",
              "      <td>793125156185137153</td>\n",
              "    </tr>\n",
              "  </tbody>\n",
              "</table>\n",
              "</div>\n",
              "      <button class=\"colab-df-convert\" onclick=\"convertToInteractive('df-48d2b05d-329d-4ee6-8b90-1f4b4d954cd0')\"\n",
              "              title=\"Convert this dataframe to an interactive table.\"\n",
              "              style=\"display:none;\">\n",
              "        \n",
              "  <svg xmlns=\"http://www.w3.org/2000/svg\" height=\"24px\"viewBox=\"0 0 24 24\"\n",
              "       width=\"24px\">\n",
              "    <path d=\"M0 0h24v24H0V0z\" fill=\"none\"/>\n",
              "    <path d=\"M18.56 5.44l.94 2.06.94-2.06 2.06-.94-2.06-.94-.94-2.06-.94 2.06-2.06.94zm-11 1L8.5 8.5l.94-2.06 2.06-.94-2.06-.94L8.5 2.5l-.94 2.06-2.06.94zm10 10l.94 2.06.94-2.06 2.06-.94-2.06-.94-.94-2.06-.94 2.06-2.06.94z\"/><path d=\"M17.41 7.96l-1.37-1.37c-.4-.4-.92-.59-1.43-.59-.52 0-1.04.2-1.43.59L10.3 9.45l-7.72 7.72c-.78.78-.78 2.05 0 2.83L4 21.41c.39.39.9.59 1.41.59.51 0 1.02-.2 1.41-.59l7.78-7.78 2.81-2.81c.8-.78.8-2.07 0-2.86zM5.41 20L4 18.59l7.72-7.72 1.47 1.35L5.41 20z\"/>\n",
              "  </svg>\n",
              "      </button>\n",
              "      \n",
              "  <style>\n",
              "    .colab-df-container {\n",
              "      display:flex;\n",
              "      flex-wrap:wrap;\n",
              "      gap: 12px;\n",
              "    }\n",
              "\n",
              "    .colab-df-convert {\n",
              "      background-color: #E8F0FE;\n",
              "      border: none;\n",
              "      border-radius: 50%;\n",
              "      cursor: pointer;\n",
              "      display: none;\n",
              "      fill: #1967D2;\n",
              "      height: 32px;\n",
              "      padding: 0 0 0 0;\n",
              "      width: 32px;\n",
              "    }\n",
              "\n",
              "    .colab-df-convert:hover {\n",
              "      background-color: #E2EBFA;\n",
              "      box-shadow: 0px 1px 2px rgba(60, 64, 67, 0.3), 0px 1px 3px 1px rgba(60, 64, 67, 0.15);\n",
              "      fill: #174EA6;\n",
              "    }\n",
              "\n",
              "    [theme=dark] .colab-df-convert {\n",
              "      background-color: #3B4455;\n",
              "      fill: #D2E3FC;\n",
              "    }\n",
              "\n",
              "    [theme=dark] .colab-df-convert:hover {\n",
              "      background-color: #434B5C;\n",
              "      box-shadow: 0px 1px 3px 1px rgba(0, 0, 0, 0.15);\n",
              "      filter: drop-shadow(0px 1px 2px rgba(0, 0, 0, 0.3));\n",
              "      fill: #FFFFFF;\n",
              "    }\n",
              "  </style>\n",
              "\n",
              "      <script>\n",
              "        const buttonEl =\n",
              "          document.querySelector('#df-48d2b05d-329d-4ee6-8b90-1f4b4d954cd0 button.colab-df-convert');\n",
              "        buttonEl.style.display =\n",
              "          google.colab.kernel.accessAllowed ? 'block' : 'none';\n",
              "\n",
              "        async function convertToInteractive(key) {\n",
              "          const element = document.querySelector('#df-48d2b05d-329d-4ee6-8b90-1f4b4d954cd0');\n",
              "          const dataTable =\n",
              "            await google.colab.kernel.invokeFunction('convertToInteractive',\n",
              "                                                     [key], {});\n",
              "          if (!dataTable) return;\n",
              "\n",
              "          const docLinkHtml = 'Like what you see? Visit the ' +\n",
              "            '<a target=\"_blank\" href=https://colab.research.google.com/notebooks/data_table.ipynb>data table notebook</a>'\n",
              "            + ' to learn more about interactive tables.';\n",
              "          element.innerHTML = '';\n",
              "          dataTable['output_type'] = 'display_data';\n",
              "          await google.colab.output.renderOutput(dataTable, element);\n",
              "          const docLink = document.createElement('div');\n",
              "          docLink.innerHTML = docLinkHtml;\n",
              "          element.appendChild(docLink);\n",
              "        }\n",
              "      </script>\n",
              "    </div>\n",
              "  </div>\n",
              "  "
            ]
          },
          "metadata": {},
          "execution_count": 2
        }
      ]
    },
    {
      "cell_type": "code",
      "source": [
        "# sentyment -1 - negatywny, 0 - neutralny, 1 - pozytywny, 2 - news o zmianie klimatu (bez sentymentu)\n",
        "df['sentiment'] = pd.to_numeric(df['sentiment'])\n",
        "df = df[df['sentiment'] != 2] # usunięcie newsów\n",
        "df = df[df['sentiment'] != 0] # usunięcie neutralnych\n",
        "len(df)"
      ],
      "metadata": {
        "colab": {
          "base_uri": "https://localhost:8080/"
        },
        "id": "-B-Pjvk-Wl41",
        "outputId": "1a4b71cf-5920-4559-ca23-1c87b05b5fcc"
      },
      "execution_count": 3,
      "outputs": [
        {
          "output_type": "execute_result",
          "data": {
            "text/plain": [
              "26952"
            ]
          },
          "metadata": {},
          "execution_count": 3
        }
      ]
    },
    {
      "cell_type": "code",
      "source": [
        "data = df[['sentiment', 'message']]\n",
        "data['sentiment'] = data['sentiment'].replace(-1, 0)\n",
        "data['sentiment'].unique()"
      ],
      "metadata": {
        "colab": {
          "base_uri": "https://localhost:8080/"
        },
        "id": "Gx365jxBWpgD",
        "outputId": "912fe964-fcf2-4bb5-8e3e-db529628b7e7"
      },
      "execution_count": 4,
      "outputs": [
        {
          "output_type": "stream",
          "name": "stderr",
          "text": [
            "/usr/local/lib/python3.7/dist-packages/ipykernel_launcher.py:2: SettingWithCopyWarning: \n",
            "A value is trying to be set on a copy of a slice from a DataFrame.\n",
            "Try using .loc[row_indexer,col_indexer] = value instead\n",
            "\n",
            "See the caveats in the documentation: https://pandas.pydata.org/pandas-docs/stable/user_guide/indexing.html#returning-a-view-versus-a-copy\n",
            "  \n"
          ]
        },
        {
          "output_type": "execute_result",
          "data": {
            "text/plain": [
              "array([0, 1])"
            ]
          },
          "metadata": {},
          "execution_count": 4
        }
      ]
    },
    {
      "cell_type": "code",
      "source": [
        "nlp = spacy.load('en_core_web_md')\n",
        "stop_words = nlp.Defaults.stop_words"
      ],
      "metadata": {
        "id": "HO1JkNKGa7Sb"
      },
      "execution_count": 5,
      "outputs": []
    },
    {
      "cell_type": "code",
      "source": [
        "def text_preprocessing(text):\n",
        "  # text = str(text)\n",
        "  text = text.lower()\n",
        "  text = \" \".join([word for word in text.split() if word not in stop_words])\n",
        "  translator = str.maketrans('', '', string.punctuation)\n",
        "  text = text.translate(translator)\n",
        "  text = re.sub(r'(.)1+', r'1', text) # powtarzające się znaki\n",
        "  text = re.sub('((www.[^s]+)|(https?://[^s]+))',' ',text) # adresy url\n",
        "  text = re.sub('[0-9]+', '', text)\n",
        "  if text.startswith('rt '): # usunięcie oznaczenia retweet'u\n",
        "    text = text[3:]\n",
        "  return text"
      ],
      "metadata": {
        "id": "e34fZeGxawXo"
      },
      "execution_count": 6,
      "outputs": []
    },
    {
      "cell_type": "code",
      "source": [
        "data['message'] = data['message'].apply(text_preprocessing)"
      ],
      "metadata": {
        "colab": {
          "base_uri": "https://localhost:8080/"
        },
        "id": "Bc_h4y5tcgOH",
        "outputId": "56d0d95b-9e3a-4b13-d4b3-937a5fb64c0a"
      },
      "execution_count": 7,
      "outputs": [
        {
          "output_type": "stream",
          "name": "stderr",
          "text": [
            "/usr/local/lib/python3.7/dist-packages/ipykernel_launcher.py:1: SettingWithCopyWarning: \n",
            "A value is trying to be set on a copy of a slice from a DataFrame.\n",
            "Try using .loc[row_indexer,col_indexer] = value instead\n",
            "\n",
            "See the caveats in the documentation: https://pandas.pydata.org/pandas-docs/stable/user_guide/indexing.html#returning-a-view-versus-a-copy\n",
            "  \"\"\"Entry point for launching an IPython kernel.\n"
          ]
        }
      ]
    },
    {
      "cell_type": "code",
      "source": [
        "data.head()"
      ],
      "metadata": {
        "colab": {
          "base_uri": "https://localhost:8080/",
          "height": 206
        },
        "id": "pvQ1mjc6dMrP",
        "outputId": "2ad6a7c3-a368-4ce4-e20a-39c18d0bdf9a"
      },
      "execution_count": 8,
      "outputs": [
        {
          "output_type": "execute_result",
          "data": {
            "text/plain": [
              "    sentiment                                            message\n",
              "1           0  tiniebeany climate change interesting hustle g...\n",
              "2           1  natgeochannel watch beforetheflood right here ...\n",
              "3           1  fabulous leonardo dicaprios film climate chang...\n",
              "4           1  mickfanning watched amazing documentary leonar...\n",
              "10          1  beforetheflood watch beforetheflood right here..."
            ],
            "text/html": [
              "\n",
              "  <div id=\"df-7c26efd6-aa19-4479-91ae-a1afcc1767d5\">\n",
              "    <div class=\"colab-df-container\">\n",
              "      <div>\n",
              "<style scoped>\n",
              "    .dataframe tbody tr th:only-of-type {\n",
              "        vertical-align: middle;\n",
              "    }\n",
              "\n",
              "    .dataframe tbody tr th {\n",
              "        vertical-align: top;\n",
              "    }\n",
              "\n",
              "    .dataframe thead th {\n",
              "        text-align: right;\n",
              "    }\n",
              "</style>\n",
              "<table border=\"1\" class=\"dataframe\">\n",
              "  <thead>\n",
              "    <tr style=\"text-align: right;\">\n",
              "      <th></th>\n",
              "      <th>sentiment</th>\n",
              "      <th>message</th>\n",
              "    </tr>\n",
              "  </thead>\n",
              "  <tbody>\n",
              "    <tr>\n",
              "      <th>1</th>\n",
              "      <td>0</td>\n",
              "      <td>tiniebeany climate change interesting hustle g...</td>\n",
              "    </tr>\n",
              "    <tr>\n",
              "      <th>2</th>\n",
              "      <td>1</td>\n",
              "      <td>natgeochannel watch beforetheflood right here ...</td>\n",
              "    </tr>\n",
              "    <tr>\n",
              "      <th>3</th>\n",
              "      <td>1</td>\n",
              "      <td>fabulous leonardo dicaprios film climate chang...</td>\n",
              "    </tr>\n",
              "    <tr>\n",
              "      <th>4</th>\n",
              "      <td>1</td>\n",
              "      <td>mickfanning watched amazing documentary leonar...</td>\n",
              "    </tr>\n",
              "    <tr>\n",
              "      <th>10</th>\n",
              "      <td>1</td>\n",
              "      <td>beforetheflood watch beforetheflood right here...</td>\n",
              "    </tr>\n",
              "  </tbody>\n",
              "</table>\n",
              "</div>\n",
              "      <button class=\"colab-df-convert\" onclick=\"convertToInteractive('df-7c26efd6-aa19-4479-91ae-a1afcc1767d5')\"\n",
              "              title=\"Convert this dataframe to an interactive table.\"\n",
              "              style=\"display:none;\">\n",
              "        \n",
              "  <svg xmlns=\"http://www.w3.org/2000/svg\" height=\"24px\"viewBox=\"0 0 24 24\"\n",
              "       width=\"24px\">\n",
              "    <path d=\"M0 0h24v24H0V0z\" fill=\"none\"/>\n",
              "    <path d=\"M18.56 5.44l.94 2.06.94-2.06 2.06-.94-2.06-.94-.94-2.06-.94 2.06-2.06.94zm-11 1L8.5 8.5l.94-2.06 2.06-.94-2.06-.94L8.5 2.5l-.94 2.06-2.06.94zm10 10l.94 2.06.94-2.06 2.06-.94-2.06-.94-.94-2.06-.94 2.06-2.06.94z\"/><path d=\"M17.41 7.96l-1.37-1.37c-.4-.4-.92-.59-1.43-.59-.52 0-1.04.2-1.43.59L10.3 9.45l-7.72 7.72c-.78.78-.78 2.05 0 2.83L4 21.41c.39.39.9.59 1.41.59.51 0 1.02-.2 1.41-.59l7.78-7.78 2.81-2.81c.8-.78.8-2.07 0-2.86zM5.41 20L4 18.59l7.72-7.72 1.47 1.35L5.41 20z\"/>\n",
              "  </svg>\n",
              "      </button>\n",
              "      \n",
              "  <style>\n",
              "    .colab-df-container {\n",
              "      display:flex;\n",
              "      flex-wrap:wrap;\n",
              "      gap: 12px;\n",
              "    }\n",
              "\n",
              "    .colab-df-convert {\n",
              "      background-color: #E8F0FE;\n",
              "      border: none;\n",
              "      border-radius: 50%;\n",
              "      cursor: pointer;\n",
              "      display: none;\n",
              "      fill: #1967D2;\n",
              "      height: 32px;\n",
              "      padding: 0 0 0 0;\n",
              "      width: 32px;\n",
              "    }\n",
              "\n",
              "    .colab-df-convert:hover {\n",
              "      background-color: #E2EBFA;\n",
              "      box-shadow: 0px 1px 2px rgba(60, 64, 67, 0.3), 0px 1px 3px 1px rgba(60, 64, 67, 0.15);\n",
              "      fill: #174EA6;\n",
              "    }\n",
              "\n",
              "    [theme=dark] .colab-df-convert {\n",
              "      background-color: #3B4455;\n",
              "      fill: #D2E3FC;\n",
              "    }\n",
              "\n",
              "    [theme=dark] .colab-df-convert:hover {\n",
              "      background-color: #434B5C;\n",
              "      box-shadow: 0px 1px 3px 1px rgba(0, 0, 0, 0.15);\n",
              "      filter: drop-shadow(0px 1px 2px rgba(0, 0, 0, 0.3));\n",
              "      fill: #FFFFFF;\n",
              "    }\n",
              "  </style>\n",
              "\n",
              "      <script>\n",
              "        const buttonEl =\n",
              "          document.querySelector('#df-7c26efd6-aa19-4479-91ae-a1afcc1767d5 button.colab-df-convert');\n",
              "        buttonEl.style.display =\n",
              "          google.colab.kernel.accessAllowed ? 'block' : 'none';\n",
              "\n",
              "        async function convertToInteractive(key) {\n",
              "          const element = document.querySelector('#df-7c26efd6-aa19-4479-91ae-a1afcc1767d5');\n",
              "          const dataTable =\n",
              "            await google.colab.kernel.invokeFunction('convertToInteractive',\n",
              "                                                     [key], {});\n",
              "          if (!dataTable) return;\n",
              "\n",
              "          const docLinkHtml = 'Like what you see? Visit the ' +\n",
              "            '<a target=\"_blank\" href=https://colab.research.google.com/notebooks/data_table.ipynb>data table notebook</a>'\n",
              "            + ' to learn more about interactive tables.';\n",
              "          element.innerHTML = '';\n",
              "          dataTable['output_type'] = 'display_data';\n",
              "          await google.colab.output.renderOutput(dataTable, element);\n",
              "          const docLink = document.createElement('div');\n",
              "          docLink.innerHTML = docLinkHtml;\n",
              "          element.appendChild(docLink);\n",
              "        }\n",
              "      </script>\n",
              "    </div>\n",
              "  </div>\n",
              "  "
            ]
          },
          "metadata": {},
          "execution_count": 8
        }
      ]
    },
    {
      "cell_type": "code",
      "source": [
        "tokenizer = nltk.tokenize.RegexpTokenizer(r'\\w+')\n",
        "data['message'] = data['message'].apply(tokenizer.tokenize)\n",
        "data.head()"
      ],
      "metadata": {
        "colab": {
          "base_uri": "https://localhost:8080/",
          "height": 313
        },
        "id": "8L0YzluWeTG-",
        "outputId": "ac0ede6c-4293-4799-d5de-633df6f568b8"
      },
      "execution_count": 9,
      "outputs": [
        {
          "output_type": "stream",
          "name": "stderr",
          "text": [
            "/usr/local/lib/python3.7/dist-packages/ipykernel_launcher.py:2: SettingWithCopyWarning: \n",
            "A value is trying to be set on a copy of a slice from a DataFrame.\n",
            "Try using .loc[row_indexer,col_indexer] = value instead\n",
            "\n",
            "See the caveats in the documentation: https://pandas.pydata.org/pandas-docs/stable/user_guide/indexing.html#returning-a-view-versus-a-copy\n",
            "  \n"
          ]
        },
        {
          "output_type": "execute_result",
          "data": {
            "text/plain": [
              "    sentiment                                            message\n",
              "1           0  [tiniebeany, climate, change, interesting, hus...\n",
              "2           1  [natgeochannel, watch, beforetheflood, right, ...\n",
              "3           1  [fabulous, leonardo, dicaprios, film, climate,...\n",
              "4           1  [mickfanning, watched, amazing, documentary, l...\n",
              "10          1  [beforetheflood, watch, beforetheflood, right,..."
            ],
            "text/html": [
              "\n",
              "  <div id=\"df-5d4bee9b-5d55-4469-9e18-a88ee74708fd\">\n",
              "    <div class=\"colab-df-container\">\n",
              "      <div>\n",
              "<style scoped>\n",
              "    .dataframe tbody tr th:only-of-type {\n",
              "        vertical-align: middle;\n",
              "    }\n",
              "\n",
              "    .dataframe tbody tr th {\n",
              "        vertical-align: top;\n",
              "    }\n",
              "\n",
              "    .dataframe thead th {\n",
              "        text-align: right;\n",
              "    }\n",
              "</style>\n",
              "<table border=\"1\" class=\"dataframe\">\n",
              "  <thead>\n",
              "    <tr style=\"text-align: right;\">\n",
              "      <th></th>\n",
              "      <th>sentiment</th>\n",
              "      <th>message</th>\n",
              "    </tr>\n",
              "  </thead>\n",
              "  <tbody>\n",
              "    <tr>\n",
              "      <th>1</th>\n",
              "      <td>0</td>\n",
              "      <td>[tiniebeany, climate, change, interesting, hus...</td>\n",
              "    </tr>\n",
              "    <tr>\n",
              "      <th>2</th>\n",
              "      <td>1</td>\n",
              "      <td>[natgeochannel, watch, beforetheflood, right, ...</td>\n",
              "    </tr>\n",
              "    <tr>\n",
              "      <th>3</th>\n",
              "      <td>1</td>\n",
              "      <td>[fabulous, leonardo, dicaprios, film, climate,...</td>\n",
              "    </tr>\n",
              "    <tr>\n",
              "      <th>4</th>\n",
              "      <td>1</td>\n",
              "      <td>[mickfanning, watched, amazing, documentary, l...</td>\n",
              "    </tr>\n",
              "    <tr>\n",
              "      <th>10</th>\n",
              "      <td>1</td>\n",
              "      <td>[beforetheflood, watch, beforetheflood, right,...</td>\n",
              "    </tr>\n",
              "  </tbody>\n",
              "</table>\n",
              "</div>\n",
              "      <button class=\"colab-df-convert\" onclick=\"convertToInteractive('df-5d4bee9b-5d55-4469-9e18-a88ee74708fd')\"\n",
              "              title=\"Convert this dataframe to an interactive table.\"\n",
              "              style=\"display:none;\">\n",
              "        \n",
              "  <svg xmlns=\"http://www.w3.org/2000/svg\" height=\"24px\"viewBox=\"0 0 24 24\"\n",
              "       width=\"24px\">\n",
              "    <path d=\"M0 0h24v24H0V0z\" fill=\"none\"/>\n",
              "    <path d=\"M18.56 5.44l.94 2.06.94-2.06 2.06-.94-2.06-.94-.94-2.06-.94 2.06-2.06.94zm-11 1L8.5 8.5l.94-2.06 2.06-.94-2.06-.94L8.5 2.5l-.94 2.06-2.06.94zm10 10l.94 2.06.94-2.06 2.06-.94-2.06-.94-.94-2.06-.94 2.06-2.06.94z\"/><path d=\"M17.41 7.96l-1.37-1.37c-.4-.4-.92-.59-1.43-.59-.52 0-1.04.2-1.43.59L10.3 9.45l-7.72 7.72c-.78.78-.78 2.05 0 2.83L4 21.41c.39.39.9.59 1.41.59.51 0 1.02-.2 1.41-.59l7.78-7.78 2.81-2.81c.8-.78.8-2.07 0-2.86zM5.41 20L4 18.59l7.72-7.72 1.47 1.35L5.41 20z\"/>\n",
              "  </svg>\n",
              "      </button>\n",
              "      \n",
              "  <style>\n",
              "    .colab-df-container {\n",
              "      display:flex;\n",
              "      flex-wrap:wrap;\n",
              "      gap: 12px;\n",
              "    }\n",
              "\n",
              "    .colab-df-convert {\n",
              "      background-color: #E8F0FE;\n",
              "      border: none;\n",
              "      border-radius: 50%;\n",
              "      cursor: pointer;\n",
              "      display: none;\n",
              "      fill: #1967D2;\n",
              "      height: 32px;\n",
              "      padding: 0 0 0 0;\n",
              "      width: 32px;\n",
              "    }\n",
              "\n",
              "    .colab-df-convert:hover {\n",
              "      background-color: #E2EBFA;\n",
              "      box-shadow: 0px 1px 2px rgba(60, 64, 67, 0.3), 0px 1px 3px 1px rgba(60, 64, 67, 0.15);\n",
              "      fill: #174EA6;\n",
              "    }\n",
              "\n",
              "    [theme=dark] .colab-df-convert {\n",
              "      background-color: #3B4455;\n",
              "      fill: #D2E3FC;\n",
              "    }\n",
              "\n",
              "    [theme=dark] .colab-df-convert:hover {\n",
              "      background-color: #434B5C;\n",
              "      box-shadow: 0px 1px 3px 1px rgba(0, 0, 0, 0.15);\n",
              "      filter: drop-shadow(0px 1px 2px rgba(0, 0, 0, 0.3));\n",
              "      fill: #FFFFFF;\n",
              "    }\n",
              "  </style>\n",
              "\n",
              "      <script>\n",
              "        const buttonEl =\n",
              "          document.querySelector('#df-5d4bee9b-5d55-4469-9e18-a88ee74708fd button.colab-df-convert');\n",
              "        buttonEl.style.display =\n",
              "          google.colab.kernel.accessAllowed ? 'block' : 'none';\n",
              "\n",
              "        async function convertToInteractive(key) {\n",
              "          const element = document.querySelector('#df-5d4bee9b-5d55-4469-9e18-a88ee74708fd');\n",
              "          const dataTable =\n",
              "            await google.colab.kernel.invokeFunction('convertToInteractive',\n",
              "                                                     [key], {});\n",
              "          if (!dataTable) return;\n",
              "\n",
              "          const docLinkHtml = 'Like what you see? Visit the ' +\n",
              "            '<a target=\"_blank\" href=https://colab.research.google.com/notebooks/data_table.ipynb>data table notebook</a>'\n",
              "            + ' to learn more about interactive tables.';\n",
              "          element.innerHTML = '';\n",
              "          dataTable['output_type'] = 'display_data';\n",
              "          await google.colab.output.renderOutput(dataTable, element);\n",
              "          const docLink = document.createElement('div');\n",
              "          docLink.innerHTML = docLinkHtml;\n",
              "          element.appendChild(docLink);\n",
              "        }\n",
              "      </script>\n",
              "    </div>\n",
              "  </div>\n",
              "  "
            ]
          },
          "metadata": {},
          "execution_count": 9
        }
      ]
    },
    {
      "cell_type": "code",
      "source": [
        "nltk.download('wordnet')"
      ],
      "metadata": {
        "colab": {
          "base_uri": "https://localhost:8080/"
        },
        "id": "UXln28_ucRIw",
        "outputId": "45fe28e8-3527-4fd7-ae72-dded433a62f7"
      },
      "execution_count": 10,
      "outputs": [
        {
          "output_type": "stream",
          "name": "stdout",
          "text": [
            "[nltk_data] Downloading package wordnet to /root/nltk_data...\n",
            "[nltk_data]   Unzipping corpora/wordnet.zip.\n"
          ]
        },
        {
          "output_type": "execute_result",
          "data": {
            "text/plain": [
              "True"
            ]
          },
          "metadata": {},
          "execution_count": 10
        }
      ]
    },
    {
      "cell_type": "code",
      "source": [
        "lemmatizer = nltk.WordNetLemmatizer()\n",
        "data['message'] = data['message'].apply(lambda x: [lemmatizer.lemmatize(word) for word in x])\n",
        "data.head()"
      ],
      "metadata": {
        "colab": {
          "base_uri": "https://localhost:8080/",
          "height": 313
        },
        "id": "TCXjBdWXcX_6",
        "outputId": "7025597c-e431-4230-dddb-6514e89a6b56"
      },
      "execution_count": 11,
      "outputs": [
        {
          "output_type": "stream",
          "name": "stderr",
          "text": [
            "/usr/local/lib/python3.7/dist-packages/ipykernel_launcher.py:2: SettingWithCopyWarning: \n",
            "A value is trying to be set on a copy of a slice from a DataFrame.\n",
            "Try using .loc[row_indexer,col_indexer] = value instead\n",
            "\n",
            "See the caveats in the documentation: https://pandas.pydata.org/pandas-docs/stable/user_guide/indexing.html#returning-a-view-versus-a-copy\n",
            "  \n"
          ]
        },
        {
          "output_type": "execute_result",
          "data": {
            "text/plain": [
              "    sentiment                                            message\n",
              "1           0  [tiniebeany, climate, change, interesting, hus...\n",
              "2           1  [natgeochannel, watch, beforetheflood, right, ...\n",
              "3           1  [fabulous, leonardo, dicaprios, film, climate,...\n",
              "4           1  [mickfanning, watched, amazing, documentary, l...\n",
              "10          1  [beforetheflood, watch, beforetheflood, right,..."
            ],
            "text/html": [
              "\n",
              "  <div id=\"df-04a7aeed-1051-45bf-9470-860ed3969964\">\n",
              "    <div class=\"colab-df-container\">\n",
              "      <div>\n",
              "<style scoped>\n",
              "    .dataframe tbody tr th:only-of-type {\n",
              "        vertical-align: middle;\n",
              "    }\n",
              "\n",
              "    .dataframe tbody tr th {\n",
              "        vertical-align: top;\n",
              "    }\n",
              "\n",
              "    .dataframe thead th {\n",
              "        text-align: right;\n",
              "    }\n",
              "</style>\n",
              "<table border=\"1\" class=\"dataframe\">\n",
              "  <thead>\n",
              "    <tr style=\"text-align: right;\">\n",
              "      <th></th>\n",
              "      <th>sentiment</th>\n",
              "      <th>message</th>\n",
              "    </tr>\n",
              "  </thead>\n",
              "  <tbody>\n",
              "    <tr>\n",
              "      <th>1</th>\n",
              "      <td>0</td>\n",
              "      <td>[tiniebeany, climate, change, interesting, hus...</td>\n",
              "    </tr>\n",
              "    <tr>\n",
              "      <th>2</th>\n",
              "      <td>1</td>\n",
              "      <td>[natgeochannel, watch, beforetheflood, right, ...</td>\n",
              "    </tr>\n",
              "    <tr>\n",
              "      <th>3</th>\n",
              "      <td>1</td>\n",
              "      <td>[fabulous, leonardo, dicaprios, film, climate,...</td>\n",
              "    </tr>\n",
              "    <tr>\n",
              "      <th>4</th>\n",
              "      <td>1</td>\n",
              "      <td>[mickfanning, watched, amazing, documentary, l...</td>\n",
              "    </tr>\n",
              "    <tr>\n",
              "      <th>10</th>\n",
              "      <td>1</td>\n",
              "      <td>[beforetheflood, watch, beforetheflood, right,...</td>\n",
              "    </tr>\n",
              "  </tbody>\n",
              "</table>\n",
              "</div>\n",
              "      <button class=\"colab-df-convert\" onclick=\"convertToInteractive('df-04a7aeed-1051-45bf-9470-860ed3969964')\"\n",
              "              title=\"Convert this dataframe to an interactive table.\"\n",
              "              style=\"display:none;\">\n",
              "        \n",
              "  <svg xmlns=\"http://www.w3.org/2000/svg\" height=\"24px\"viewBox=\"0 0 24 24\"\n",
              "       width=\"24px\">\n",
              "    <path d=\"M0 0h24v24H0V0z\" fill=\"none\"/>\n",
              "    <path d=\"M18.56 5.44l.94 2.06.94-2.06 2.06-.94-2.06-.94-.94-2.06-.94 2.06-2.06.94zm-11 1L8.5 8.5l.94-2.06 2.06-.94-2.06-.94L8.5 2.5l-.94 2.06-2.06.94zm10 10l.94 2.06.94-2.06 2.06-.94-2.06-.94-.94-2.06-.94 2.06-2.06.94z\"/><path d=\"M17.41 7.96l-1.37-1.37c-.4-.4-.92-.59-1.43-.59-.52 0-1.04.2-1.43.59L10.3 9.45l-7.72 7.72c-.78.78-.78 2.05 0 2.83L4 21.41c.39.39.9.59 1.41.59.51 0 1.02-.2 1.41-.59l7.78-7.78 2.81-2.81c.8-.78.8-2.07 0-2.86zM5.41 20L4 18.59l7.72-7.72 1.47 1.35L5.41 20z\"/>\n",
              "  </svg>\n",
              "      </button>\n",
              "      \n",
              "  <style>\n",
              "    .colab-df-container {\n",
              "      display:flex;\n",
              "      flex-wrap:wrap;\n",
              "      gap: 12px;\n",
              "    }\n",
              "\n",
              "    .colab-df-convert {\n",
              "      background-color: #E8F0FE;\n",
              "      border: none;\n",
              "      border-radius: 50%;\n",
              "      cursor: pointer;\n",
              "      display: none;\n",
              "      fill: #1967D2;\n",
              "      height: 32px;\n",
              "      padding: 0 0 0 0;\n",
              "      width: 32px;\n",
              "    }\n",
              "\n",
              "    .colab-df-convert:hover {\n",
              "      background-color: #E2EBFA;\n",
              "      box-shadow: 0px 1px 2px rgba(60, 64, 67, 0.3), 0px 1px 3px 1px rgba(60, 64, 67, 0.15);\n",
              "      fill: #174EA6;\n",
              "    }\n",
              "\n",
              "    [theme=dark] .colab-df-convert {\n",
              "      background-color: #3B4455;\n",
              "      fill: #D2E3FC;\n",
              "    }\n",
              "\n",
              "    [theme=dark] .colab-df-convert:hover {\n",
              "      background-color: #434B5C;\n",
              "      box-shadow: 0px 1px 3px 1px rgba(0, 0, 0, 0.15);\n",
              "      filter: drop-shadow(0px 1px 2px rgba(0, 0, 0, 0.3));\n",
              "      fill: #FFFFFF;\n",
              "    }\n",
              "  </style>\n",
              "\n",
              "      <script>\n",
              "        const buttonEl =\n",
              "          document.querySelector('#df-04a7aeed-1051-45bf-9470-860ed3969964 button.colab-df-convert');\n",
              "        buttonEl.style.display =\n",
              "          google.colab.kernel.accessAllowed ? 'block' : 'none';\n",
              "\n",
              "        async function convertToInteractive(key) {\n",
              "          const element = document.querySelector('#df-04a7aeed-1051-45bf-9470-860ed3969964');\n",
              "          const dataTable =\n",
              "            await google.colab.kernel.invokeFunction('convertToInteractive',\n",
              "                                                     [key], {});\n",
              "          if (!dataTable) return;\n",
              "\n",
              "          const docLinkHtml = 'Like what you see? Visit the ' +\n",
              "            '<a target=\"_blank\" href=https://colab.research.google.com/notebooks/data_table.ipynb>data table notebook</a>'\n",
              "            + ' to learn more about interactive tables.';\n",
              "          element.innerHTML = '';\n",
              "          dataTable['output_type'] = 'display_data';\n",
              "          await google.colab.output.renderOutput(dataTable, element);\n",
              "          const docLink = document.createElement('div');\n",
              "          docLink.innerHTML = docLinkHtml;\n",
              "          element.appendChild(docLink);\n",
              "        }\n",
              "      </script>\n",
              "    </div>\n",
              "  </div>\n",
              "  "
            ]
          },
          "metadata": {},
          "execution_count": 11
        }
      ]
    },
    {
      "cell_type": "code",
      "source": [
        "X = data.message.astype(str)\n",
        "y = data.sentiment.astype(int)"
      ],
      "metadata": {
        "id": "EH9h82nyd0gM"
      },
      "execution_count": 30,
      "outputs": []
    },
    {
      "cell_type": "code",
      "source": [
        "X_train, X_test, y_train, y_test = train_test_split(X, y, test_size=0.1, random_state=42)"
      ],
      "metadata": {
        "id": "LPOommPofKzK"
      },
      "execution_count": 31,
      "outputs": []
    },
    {
      "cell_type": "code",
      "source": [
        "X_train.head()"
      ],
      "metadata": {
        "colab": {
          "base_uri": "https://localhost:8080/"
        },
        "id": "vOS4YIGdgTnS",
        "outputId": "05ff1002-829b-442e-c00e-5dcb8cfad0d5"
      },
      "execution_count": 32,
      "outputs": [
        {
          "output_type": "execute_result",
          "data": {
            "text/plain": [
              "28893    ['ajplus', 'activist', 'sealed', 'letter', 'ti...\n",
              "24986    ['issascottie', 'trump', 'president', 'north',...\n",
              "2189     ['berniesanders', 'the', 'concept', 'global', ...\n",
              "23694    ['week', 'new', 'scientist', 'focus', 'climate...\n",
              "16362    ['fightnowamerica', 'blind', 'liberal', 'cant'...\n",
              "Name: message, dtype: object"
            ]
          },
          "metadata": {},
          "execution_count": 32
        }
      ]
    },
    {
      "cell_type": "code",
      "source": [
        "vectorizer = TfidfVectorizer(ngram_range = (1, 2), max_features = 500000)\n",
        "vectorizer.fit(X_train)\n",
        "print(f'Ilość słów po wektoryzacji: {len(vectorizer.get_feature_names())}')"
      ],
      "metadata": {
        "colab": {
          "base_uri": "https://localhost:8080/"
        },
        "id": "zzCMUegUfkrD",
        "outputId": "89141062-f327-47f8-ca6c-d09df8ebe1d3"
      },
      "execution_count": 33,
      "outputs": [
        {
          "output_type": "stream",
          "name": "stderr",
          "text": [
            "/usr/local/lib/python3.7/dist-packages/sklearn/utils/deprecation.py:87: FutureWarning: Function get_feature_names is deprecated; get_feature_names is deprecated in 1.0 and will be removed in 1.2. Please use get_feature_names_out instead.\n",
            "  warnings.warn(msg, category=FutureWarning)\n"
          ]
        },
        {
          "output_type": "stream",
          "name": "stdout",
          "text": [
            "Ilość słów po wektoryzacji: 185859\n"
          ]
        }
      ]
    },
    {
      "cell_type": "code",
      "source": [
        "X_train = vectorizer.transform(X_train)\n",
        "X_test = vectorizer.transform(X_test)\n",
        "\n",
        "X_train"
      ],
      "metadata": {
        "colab": {
          "base_uri": "https://localhost:8080/"
        },
        "id": "yvqwc-PhiBdG",
        "outputId": "8050f079-b2a6-410b-b718-95e81f80ddc0"
      },
      "execution_count": 34,
      "outputs": [
        {
          "output_type": "execute_result",
          "data": {
            "text/plain": [
              "<24256x185859 sparse matrix of type '<class 'numpy.float64'>'\n",
              "\twith 520847 stored elements in Compressed Sparse Row format>"
            ]
          },
          "metadata": {},
          "execution_count": 34
        }
      ]
    },
    {
      "cell_type": "code",
      "source": [
        "def evaluate_model(model):\n",
        "  y_pred = model.predict(X_test)\n",
        "\n",
        "  print(classification_report(y_test, y_pred))\n",
        "\n",
        "  matrix = confusion_matrix(y_test, y_pred)\n",
        "\n",
        "  categories = ['Negative','Positive']\n",
        "  group_names = ['True Negative','False Positive', 'False Negative','True Positive']\n",
        "  group_percentages = ['{0:.2%}'.format(value) for value in matrix.flatten() / np.sum(matrix)]\n",
        "  labels = [f'{v1}n{v2}' for v1, v2 in zip(group_names, group_percentages)]\n",
        "  labels = np.asarray(labels).reshape(2,2)\n",
        "  plt.figure(figsize = (10,10))\n",
        "  sns.heatmap(matrix, annot = labels, cmap = 'Blues',fmt = '',\n",
        "  xticklabels = categories, yticklabels = categories)\n",
        "  plt.xlabel(\"Predicted values\", fontdict = {'size':14}, labelpad = 10)\n",
        "  plt.ylabel(\"Actual values\" , fontdict = {'size':14}, labelpad = 10)\n",
        "  plt.title (\"Confusion Matrix\", fontdict = {'size':18}, pad = 20)"
      ],
      "metadata": {
        "id": "4U2QCN9XiFhJ"
      },
      "execution_count": 35,
      "outputs": []
    },
    {
      "cell_type": "code",
      "source": [
        "from sklearn.metrics import roc_curve, auc\n",
        "def draw_roc_curve(y_test, y_pred):\n",
        "  fpr, tpr, thresholds = roc_curve(y_test, y_pred)\n",
        "  roc_auc = auc(fpr, tpr)\n",
        "  plt.figure()\n",
        "  plt.plot(fpr, tpr, color='darkorange', lw=1, label='ROC curve (area = %0.2f)' % roc_auc)\n",
        "  plt.xlim([0.0, 1.0])\n",
        "  plt.ylim([0.0, 1.05])\n",
        "  plt.xlabel('False Positive Rate')\n",
        "  plt.ylabel('True Positive Rate')\n",
        "  plt.title('ROC CURVE')\n",
        "  plt.legend(loc=\"lower right\")\n",
        "  plt.show()"
      ],
      "metadata": {
        "id": "zKEX518pi2HW"
      },
      "execution_count": 36,
      "outputs": []
    },
    {
      "cell_type": "markdown",
      "source": [
        "#Klasyczny ML"
      ],
      "metadata": {
        "id": "EWeH2be5ip7y"
      }
    },
    {
      "cell_type": "code",
      "source": [
        "BNBmodel = BernoulliNB()\n",
        "BNBmodel.fit(X_train, y_train)\n",
        "evaluate_model(BNBmodel)\n",
        "y_pred = BNBmodel.predict(X_test)\n",
        "draw_roc_curve(y_test, y_pred)"
      ],
      "metadata": {
        "colab": {
          "base_uri": "https://localhost:8080/",
          "height": 1000
        },
        "id": "VUPvQvLwirY5",
        "outputId": "88974294-0325-47a8-ae36-fb507ba55bab"
      },
      "execution_count": 37,
      "outputs": [
        {
          "output_type": "stream",
          "name": "stdout",
          "text": [
            "              precision    recall  f1-score   support\n",
            "\n",
            "           0       1.00      0.03      0.06       384\n",
            "           1       0.86      1.00      0.93      2312\n",
            "\n",
            "    accuracy                           0.86      2696\n",
            "   macro avg       0.93      0.52      0.49      2696\n",
            "weighted avg       0.88      0.86      0.80      2696\n",
            "\n"
          ]
        },
        {
          "output_type": "display_data",
          "data": {
            "text/plain": [
              "<Figure size 720x720 with 2 Axes>"
            ],
            "image/png": "[encoded data removed]"
          },
          "metadata": {
            "needs_background": "light"
          }
        },
        {
          "output_type": "display_data",
          "data": {
            "text/plain": [
              "<Figure size 432x288 with 1 Axes>"
            ],
            "image/png": "[encoded data removed]"
          },
          "metadata": {
            "needs_background": "light"
          }
        }
      ]
    },
    {
      "cell_type": "code",
      "source": [
        "SVCmodel = LinearSVC()\n",
        "SVCmodel.fit(X_train, y_train)\n",
        "evaluate_model(SVCmodel)\n",
        "y_pred = SVCmodel.predict(X_test)\n",
        "draw_roc_curve(y_test, y_pred)"
      ],
      "metadata": {
        "colab": {
          "base_uri": "https://localhost:8080/",
          "height": 1000
        },
        "id": "1Pyb98EZq6Ox",
        "outputId": "c9ab7525-8319-43fb-ab0d-e5a8faa01be1"
      },
      "execution_count": 40,
      "outputs": [
        {
          "output_type": "stream",
          "name": "stdout",
          "text": [
            "              precision    recall  f1-score   support\n",
            "\n",
            "           0       0.84      0.64      0.73       384\n",
            "           1       0.94      0.98      0.96      2312\n",
            "\n",
            "    accuracy                           0.93      2696\n",
            "   macro avg       0.89      0.81      0.84      2696\n",
            "weighted avg       0.93      0.93      0.93      2696\n",
            "\n"
          ]
        },
        {
          "output_type": "display_data",
          "data": {
            "text/plain": [
              "<Figure size 720x720 with 2 Axes>"
            ],
            "image/png": "[encoded data removed]"
          },
          "metadata": {
            "needs_background": "light"
          }
        },
        {
          "output_type": "display_data",
          "data": {
            "text/plain": [
              "<Figure size 432x288 with 1 Axes>"
            ],
            "image/png": "[encoded data removed]"
          },
          "metadata": {
            "needs_background": "light"
          }
        }
      ]
    },
    {
      "cell_type": "code",
      "source": [
        "LRmodel = LogisticRegression()\n",
        "LRmodel.fit(X_train, y_train)\n",
        "evaluate_model(LRmodel)\n",
        "y_pred3 = LRmodel.predict(X_test)\n",
        "draw_roc_curve(y_test, y_pred)"
      ],
      "metadata": {
        "colab": {
          "base_uri": "https://localhost:8080/",
          "height": 1000
        },
        "id": "36j5-XpxrvLw",
        "outputId": "bf2568c0-6bca-432e-d06d-a9803c08b63f"
      },
      "execution_count": 41,
      "outputs": [
        {
          "output_type": "stream",
          "name": "stdout",
          "text": [
            "              precision    recall  f1-score   support\n",
            "\n",
            "           0       0.85      0.45      0.59       384\n",
            "           1       0.92      0.99      0.95      2312\n",
            "\n",
            "    accuracy                           0.91      2696\n",
            "   macro avg       0.88      0.72      0.77      2696\n",
            "weighted avg       0.91      0.91      0.90      2696\n",
            "\n"
          ]
        },
        {
          "output_type": "display_data",
          "data": {
            "text/plain": [
              "<Figure size 720x720 with 2 Axes>"
            ],
            "image/png": "[encoded data removed]"
          },
          "metadata": {
            "needs_background": "light"
          }
        },
        {
          "output_type": "display_data",
          "data": {
            "text/plain": [
              "<Figure size 432x288 with 1 Axes>"
            ],
            "image/png": "[encoded data removed]"
          },
          "metadata": {
            "needs_background": "light"
          }
        }
      ]
    },
    {
      "cell_type": "markdown",
      "source": [
        "#Model NN"
      ],
      "metadata": {
        "id": "XAy4Kfk4sFsB"
      }
    },
    {
      "cell_type": "code",
      "source": [
        "data = df[['sentiment', 'message']]\n",
        "data['sentiment'] = data['sentiment'].replace(-1, 0)\n",
        "data['sentiment'].unique()\n",
        "data['message'] = data['message'].apply(text_preprocessing)\n",
        "X = data.message.astype(str).to_numpy()\n",
        "y = data.sentiment.astype(int).to_numpy()"
      ],
      "metadata": {
        "colab": {
          "base_uri": "https://localhost:8080/"
        },
        "id": "VPVpED_ry3Mc",
        "outputId": "4a377248-c92e-4e70-a2f2-07e0e073e7ed"
      },
      "execution_count": 55,
      "outputs": [
        {
          "output_type": "stream",
          "name": "stderr",
          "text": [
            "/usr/local/lib/python3.7/dist-packages/ipykernel_launcher.py:2: SettingWithCopyWarning: \n",
            "A value is trying to be set on a copy of a slice from a DataFrame.\n",
            "Try using .loc[row_indexer,col_indexer] = value instead\n",
            "\n",
            "See the caveats in the documentation: https://pandas.pydata.org/pandas-docs/stable/user_guide/indexing.html#returning-a-view-versus-a-copy\n",
            "  \n",
            "/usr/local/lib/python3.7/dist-packages/ipykernel_launcher.py:4: SettingWithCopyWarning: \n",
            "A value is trying to be set on a copy of a slice from a DataFrame.\n",
            "Try using .loc[row_indexer,col_indexer] = value instead\n",
            "\n",
            "See the caveats in the documentation: https://pandas.pydata.org/pandas-docs/stable/user_guide/indexing.html#returning-a-view-versus-a-copy\n",
            "  after removing the cwd from sys.path.\n"
          ]
        }
      ]
    },
    {
      "cell_type": "code",
      "source": [
        "max_words = 5000\n",
        "max_len = 200\n",
        "\n",
        "tokenizer = Tokenizer(num_words = max_words)\n",
        "tokenizer.fit_on_texts(X)\n",
        "sequences = tokenizer.texts_to_sequences(X)\n",
        "padded_sequences = pad_sequences(sequences, maxlen = max_len)\n",
        "print(padded_sequences)"
      ],
      "metadata": {
        "colab": {
          "base_uri": "https://localhost:8080/"
        },
        "id": "ZXb73Qnr0Ftd",
        "outputId": "9485ad05-8cda-4cf9-e2aa-8e00e680a351"
      },
      "execution_count": 57,
      "outputs": [
        {
          "output_type": "stream",
          "name": "stdout",
          "text": [
            "[[   0    0    0 ...    4  181 2850]\n",
            " [   0    0    0 ...    2  244  182]\n",
            " [   0    0    0 ... 1582   57  547]\n",
            " ...\n",
            " [   0    0    0 ...    2   65 1632]\n",
            " [   0    0    0 ...    1    2 1853]\n",
            " [   0    0    0 ...  374 1176   53]]\n"
          ]
        }
      ]
    },
    {
      "cell_type": "code",
      "source": [
        "labels = tf.keras.utils.to_categorical(y, 2, dtype = 'float32')\n",
        "labels"
      ],
      "metadata": {
        "colab": {
          "base_uri": "https://localhost:8080/"
        },
        "id": "vSGuXW3V0rWx",
        "outputId": "20cf1ec0-558d-449d-fb9e-78371c9b61d3"
      },
      "execution_count": 59,
      "outputs": [
        {
          "output_type": "execute_result",
          "data": {
            "text/plain": [
              "array([[1., 0.],\n",
              "       [0., 1.],\n",
              "       [0., 1.],\n",
              "       ...,\n",
              "       [0., 1.],\n",
              "       [0., 1.],\n",
              "       [0., 1.]], dtype=float32)"
            ]
          },
          "metadata": {},
          "execution_count": 59
        }
      ]
    },
    {
      "cell_type": "code",
      "source": [
        "X_train, X_test, y_train, y_test = train_test_split(padded_sequences, labels, test_size = 0.1, random_state=42)"
      ],
      "metadata": {
        "id": "jZ2ILSjY03pH"
      },
      "execution_count": 62,
      "outputs": []
    },
    {
      "cell_type": "code",
      "source": [
        "def train_model(epochs, lstm_neurons):\n",
        "  model = Sequential()\n",
        "  model.add(layers.Embedding(max_words, 40, input_length = max_len))\n",
        "  model.add(layers.Bidirectional(layers.LSTM(lstm_neurons, dropout = 0.6)))\n",
        "  model.add(layers.Dense(2, activation = 'softmax'))\n",
        "  model.compile(optimizer='rmsprop', loss='categorical_crossentropy', metrics = ['accuracy'])\n",
        "\n",
        "  model.fit(X_train, y_train, epochs = epochs)\n",
        "\n",
        "  loss, acc = model.evaluate(X_test, y_test)\n",
        "  return model, loss, acc"
      ],
      "metadata": {
        "id": "g1mQe5b2sFDy"
      },
      "execution_count": 69,
      "outputs": []
    },
    {
      "cell_type": "code",
      "source": [
        "epochs = [5, 10, 15]\n",
        "lstm_neurons = [10, 20, 30]\n",
        "\n",
        "best_loss = float('inf')\n",
        "best_acc = 0\n",
        "best_epochs = 0\n",
        "best_neurons = 0\n",
        "\n",
        "for epoch in epochs:\n",
        "  for neurons in lstm_neurons:\n",
        "    print(f'Sprawdzanie modelu: epoki - {epoch}, neurony - {neurons}')\n",
        "    model, loss, acc = train_model(epoch, neurons)\n",
        "    if loss < best_loss:\n",
        "      best_loss = loss\n",
        "      best_acc = acc\n",
        "      best_epochs = epoch\n",
        "      best_neurons = neurons\n",
        "      model.save('best_model.h5', save_format='h5')\n",
        "\n",
        "print(f'Najlepszy model:')\n",
        "print(f'epoki: {best_epochs}')\n",
        "print(f'ilość neuronów: {best_neurons}')\n",
        "print(f'koszt: {best_loss}')\n",
        "print(f'dokładność: {best_acc}')"
      ],
      "metadata": {
        "colab": {
          "base_uri": "https://localhost:8080/"
        },
        "id": "zCshJsxg3fy6",
        "outputId": "1b170987-ab6a-47e0-c5b9-9ad1e027c293"
      },
      "execution_count": 72,
      "outputs": [
        {
          "output_type": "stream",
          "name": "stdout",
          "text": [
            "Sprawdzanie modelu: epoki - 5, neurony - 10\n",
            "Epoch 1/5\n",
            "758/758 [==============================] - 71s 87ms/step - loss: 0.3469 - accuracy: 0.8639\n",
            "Epoch 2/5\n",
            "758/758 [==============================] - 66s 87ms/step - loss: 0.2672 - accuracy: 0.8972\n",
            "Epoch 3/5\n",
            "758/758 [==============================] - 66s 87ms/step - loss: 0.2397 - accuracy: 0.9100\n",
            "Epoch 4/5\n",
            "758/758 [==============================] - 66s 87ms/step - loss: 0.2288 - accuracy: 0.9147\n",
            "Epoch 5/5\n",
            "758/758 [==============================] - 66s 87ms/step - loss: 0.2219 - accuracy: 0.9186\n",
            "85/85 [==============================] - 3s 28ms/step - loss: 0.2333 - accuracy: 0.9147\n",
            "Sprawdzanie modelu: epoki - 5, neurony - 20\n",
            "Epoch 1/5\n",
            "758/758 [==============================] - 71s 88ms/step - loss: 0.3499 - accuracy: 0.8627\n",
            "Epoch 2/5\n",
            "758/758 [==============================] - 67s 88ms/step - loss: 0.2718 - accuracy: 0.8949\n",
            "Epoch 3/5\n",
            "758/758 [==============================] - 67s 88ms/step - loss: 0.2419 - accuracy: 0.9100\n",
            "Epoch 4/5\n",
            "758/758 [==============================] - 67s 88ms/step - loss: 0.2310 - accuracy: 0.9149\n",
            "Epoch 5/5\n",
            "758/758 [==============================] - 67s 88ms/step - loss: 0.2233 - accuracy: 0.9187\n",
            "85/85 [==============================] - 3s 28ms/step - loss: 0.2321 - accuracy: 0.9128\n",
            "Sprawdzanie modelu: epoki - 5, neurony - 30\n",
            "Epoch 1/5\n",
            "758/758 [==============================] - 71s 89ms/step - loss: 0.3500 - accuracy: 0.8640\n",
            "Epoch 2/5\n",
            "758/758 [==============================] - 67s 89ms/step - loss: 0.2652 - accuracy: 0.8972\n",
            "Epoch 3/5\n",
            "758/758 [==============================] - 67s 89ms/step - loss: 0.2389 - accuracy: 0.9110\n",
            "Epoch 4/5\n",
            "758/758 [==============================] - 67s 89ms/step - loss: 0.2261 - accuracy: 0.9164\n",
            "Epoch 5/5\n",
            "758/758 [==============================] - 68s 89ms/step - loss: 0.2163 - accuracy: 0.9203\n",
            "85/85 [==============================] - 3s 28ms/step - loss: 0.2283 - accuracy: 0.9147\n",
            "Sprawdzanie modelu: epoki - 10, neurony - 10\n",
            "Epoch 1/10\n",
            "758/758 [==============================] - 70s 88ms/step - loss: 0.3543 - accuracy: 0.8609\n",
            "Epoch 2/10\n",
            "758/758 [==============================] - 66s 87ms/step - loss: 0.2687 - accuracy: 0.8980\n",
            "Epoch 3/10\n",
            "758/758 [==============================] - 66s 87ms/step - loss: 0.2422 - accuracy: 0.9101\n",
            "Epoch 4/10\n",
            "758/758 [==============================] - 66s 87ms/step - loss: 0.2280 - accuracy: 0.9170\n",
            "Epoch 5/10\n",
            "758/758 [==============================] - 66s 87ms/step - loss: 0.2200 - accuracy: 0.9191\n",
            "Epoch 6/10\n",
            "758/758 [==============================] - 66s 88ms/step - loss: 0.2148 - accuracy: 0.9216\n",
            "Epoch 7/10\n",
            "758/758 [==============================] - 66s 87ms/step - loss: 0.2109 - accuracy: 0.9232\n",
            "Epoch 8/10\n",
            "758/758 [==============================] - 66s 88ms/step - loss: 0.2087 - accuracy: 0.9243\n",
            "Epoch 9/10\n",
            "758/758 [==============================] - 66s 87ms/step - loss: 0.2055 - accuracy: 0.9246\n",
            "Epoch 10/10\n",
            "758/758 [==============================] - 66s 88ms/step - loss: 0.2053 - accuracy: 0.9252\n",
            "85/85 [==============================] - 3s 28ms/step - loss: 0.2188 - accuracy: 0.9169\n",
            "Sprawdzanie modelu: epoki - 10, neurony - 20\n",
            "Epoch 1/10\n",
            "758/758 [==============================] - 71s 89ms/step - loss: 0.3499 - accuracy: 0.8628\n",
            "Epoch 2/10\n",
            "758/758 [==============================] - 68s 89ms/step - loss: 0.2690 - accuracy: 0.8966\n",
            "Epoch 3/10\n",
            "758/758 [==============================] - 67s 89ms/step - loss: 0.2443 - accuracy: 0.9089\n",
            "Epoch 4/10\n",
            "758/758 [==============================] - 67s 89ms/step - loss: 0.2323 - accuracy: 0.9153\n",
            "Epoch 5/10\n",
            "758/758 [==============================] - 67s 89ms/step - loss: 0.2240 - accuracy: 0.9185\n",
            "Epoch 6/10\n",
            "758/758 [==============================] - 67s 89ms/step - loss: 0.2178 - accuracy: 0.9218\n",
            "Epoch 7/10\n",
            "758/758 [==============================] - 67s 89ms/step - loss: 0.2116 - accuracy: 0.9229\n",
            "Epoch 8/10\n",
            "758/758 [==============================] - 67s 89ms/step - loss: 0.2093 - accuracy: 0.9239\n",
            "Epoch 9/10\n",
            "758/758 [==============================] - 67s 88ms/step - loss: 0.2065 - accuracy: 0.9255\n",
            "Epoch 10/10\n",
            "758/758 [==============================] - 67s 88ms/step - loss: 0.2061 - accuracy: 0.9250\n",
            "85/85 [==============================] - 3s 29ms/step - loss: 0.2220 - accuracy: 0.9173\n",
            "Sprawdzanie modelu: epoki - 10, neurony - 30\n",
            "Epoch 1/10\n",
            "758/758 [==============================] - 71s 89ms/step - loss: 0.3426 - accuracy: 0.8665\n",
            "Epoch 2/10\n",
            "758/758 [==============================] - 67s 89ms/step - loss: 0.2653 - accuracy: 0.8982\n",
            "Epoch 3/10\n",
            "758/758 [==============================] - 67s 88ms/step - loss: 0.2398 - accuracy: 0.9109\n",
            "Epoch 4/10\n",
            "758/758 [==============================] - 67s 88ms/step - loss: 0.2292 - accuracy: 0.9169\n",
            "Epoch 5/10\n",
            "758/758 [==============================] - 67s 88ms/step - loss: 0.2189 - accuracy: 0.9202\n",
            "Epoch 6/10\n",
            "758/758 [==============================] - 67s 88ms/step - loss: 0.2136 - accuracy: 0.9211\n",
            "Epoch 7/10\n",
            "758/758 [==============================] - 67s 88ms/step - loss: 0.2091 - accuracy: 0.9219\n",
            "Epoch 8/10\n",
            "758/758 [==============================] - 67s 88ms/step - loss: 0.2083 - accuracy: 0.9242\n",
            "Epoch 9/10\n",
            "758/758 [==============================] - 66s 88ms/step - loss: 0.2060 - accuracy: 0.9249\n",
            "Epoch 10/10\n",
            "758/758 [==============================] - 67s 88ms/step - loss: 0.2048 - accuracy: 0.9241\n",
            "85/85 [==============================] - 3s 28ms/step - loss: 0.2202 - accuracy: 0.9162\n",
            "Sprawdzanie modelu: epoki - 15, neurony - 10\n",
            "Epoch 1/15\n",
            "758/758 [==============================] - 69s 86ms/step - loss: 0.3502 - accuracy: 0.8625\n",
            "Epoch 2/15\n",
            "758/758 [==============================] - 66s 87ms/step - loss: 0.2685 - accuracy: 0.8970\n",
            "Epoch 3/15\n",
            "758/758 [==============================] - 65s 86ms/step - loss: 0.2438 - accuracy: 0.9093\n",
            "Epoch 4/15\n",
            "758/758 [==============================] - 66s 87ms/step - loss: 0.2310 - accuracy: 0.9143\n",
            "Epoch 5/15\n",
            "758/758 [==============================] - 66s 87ms/step - loss: 0.2218 - accuracy: 0.9191\n",
            "Epoch 6/15\n",
            "758/758 [==============================] - 66s 86ms/step - loss: 0.2179 - accuracy: 0.9200\n",
            "Epoch 7/15\n",
            "758/758 [==============================] - 66s 87ms/step - loss: 0.2152 - accuracy: 0.9221\n",
            "Epoch 8/15\n",
            "758/758 [==============================] - 66s 87ms/step - loss: 0.2110 - accuracy: 0.9240\n",
            "Epoch 9/15\n",
            "758/758 [==============================] - 66s 87ms/step - loss: 0.2111 - accuracy: 0.9229\n",
            "Epoch 10/15\n",
            "758/758 [==============================] - 66s 87ms/step - loss: 0.2084 - accuracy: 0.9241\n",
            "Epoch 11/15\n",
            "758/758 [==============================] - 66s 87ms/step - loss: 0.2072 - accuracy: 0.9244\n",
            "Epoch 12/15\n",
            "758/758 [==============================] - 66s 87ms/step - loss: 0.2051 - accuracy: 0.9255\n",
            "Epoch 13/15\n",
            "758/758 [==============================] - 66s 87ms/step - loss: 0.2048 - accuracy: 0.9265\n",
            "Epoch 14/15\n",
            "758/758 [==============================] - 66s 87ms/step - loss: 0.2044 - accuracy: 0.9253\n",
            "Epoch 15/15\n",
            "758/758 [==============================] - 66s 87ms/step - loss: 0.2023 - accuracy: 0.9253\n",
            "85/85 [==============================] - 3s 28ms/step - loss: 0.2364 - accuracy: 0.9151\n",
            "Sprawdzanie modelu: epoki - 15, neurony - 20\n",
            "Epoch 1/15\n",
            "758/758 [==============================] - 70s 88ms/step - loss: 0.3492 - accuracy: 0.8630\n",
            "Epoch 2/15\n",
            "758/758 [==============================] - 67s 88ms/step - loss: 0.2672 - accuracy: 0.8992\n",
            "Epoch 3/15\n",
            "758/758 [==============================] - 67s 88ms/step - loss: 0.2430 - accuracy: 0.9091\n",
            "Epoch 4/15\n",
            "758/758 [==============================] - 67s 88ms/step - loss: 0.2298 - accuracy: 0.9162\n",
            "Epoch 5/15\n",
            "758/758 [==============================] - 67s 88ms/step - loss: 0.2213 - accuracy: 0.9199\n",
            "Epoch 6/15\n",
            "758/758 [==============================] - 66s 88ms/step - loss: 0.2142 - accuracy: 0.9221\n",
            "Epoch 7/15\n",
            "758/758 [==============================] - 67s 88ms/step - loss: 0.2098 - accuracy: 0.9219\n",
            "Epoch 8/15\n",
            "758/758 [==============================] - 66s 88ms/step - loss: 0.2092 - accuracy: 0.9237\n",
            "Epoch 9/15\n",
            "758/758 [==============================] - 67s 88ms/step - loss: 0.2057 - accuracy: 0.9251\n",
            "Epoch 10/15\n",
            "758/758 [==============================] - 67s 88ms/step - loss: 0.2031 - accuracy: 0.9263\n",
            "Epoch 11/15\n",
            "758/758 [==============================] - 67s 88ms/step - loss: 0.2020 - accuracy: 0.9271\n",
            "Epoch 12/15\n",
            "758/758 [==============================] - 66s 88ms/step - loss: 0.2009 - accuracy: 0.9264\n",
            "Epoch 13/15\n",
            "758/758 [==============================] - 67s 88ms/step - loss: 0.2001 - accuracy: 0.9264\n",
            "Epoch 14/15\n",
            "758/758 [==============================] - 66s 88ms/step - loss: 0.1987 - accuracy: 0.9269\n",
            "Epoch 15/15\n",
            "758/758 [==============================] - 66s 88ms/step - loss: 0.1981 - accuracy: 0.9274\n",
            "85/85 [==============================] - 4s 28ms/step - loss: 0.2172 - accuracy: 0.9199\n",
            "Sprawdzanie modelu: epoki - 15, neurony - 30\n",
            "Epoch 1/15\n",
            "758/758 [==============================] - 71s 88ms/step - loss: 0.3380 - accuracy: 0.8676\n",
            "Epoch 2/15\n",
            "758/758 [==============================] - 67s 88ms/step - loss: 0.2617 - accuracy: 0.8991\n",
            "Epoch 3/15\n",
            "758/758 [==============================] - 67s 88ms/step - loss: 0.2405 - accuracy: 0.9102\n",
            "Epoch 4/15\n",
            "758/758 [==============================] - 67s 88ms/step - loss: 0.2279 - accuracy: 0.9166\n",
            "Epoch 5/15\n",
            "758/758 [==============================] - 67s 88ms/step - loss: 0.2198 - accuracy: 0.9190\n",
            "Epoch 6/15\n",
            "758/758 [==============================] - 67s 88ms/step - loss: 0.2153 - accuracy: 0.9214\n",
            "Epoch 7/15\n",
            "758/758 [==============================] - 67s 88ms/step - loss: 0.2117 - accuracy: 0.9227\n",
            "Epoch 8/15\n",
            "758/758 [==============================] - 67s 89ms/step - loss: 0.2095 - accuracy: 0.9232\n",
            "Epoch 9/15\n",
            "758/758 [==============================] - 67s 88ms/step - loss: 0.2082 - accuracy: 0.9240\n",
            "Epoch 10/15\n",
            "758/758 [==============================] - 67s 88ms/step - loss: 0.2066 - accuracy: 0.9243\n",
            "Epoch 11/15\n",
            "758/758 [==============================] - 67s 89ms/step - loss: 0.2043 - accuracy: 0.9253\n",
            "Epoch 12/15\n",
            "758/758 [==============================] - 67s 88ms/step - loss: 0.2022 - accuracy: 0.9255\n",
            "Epoch 13/15\n",
            "758/758 [==============================] - 67s 88ms/step - loss: 0.2016 - accuracy: 0.9256\n",
            "Epoch 14/15\n",
            "758/758 [==============================] - 67s 88ms/step - loss: 0.2002 - accuracy: 0.9274\n",
            "Epoch 15/15\n",
            "758/758 [==============================] - 67s 88ms/step - loss: 0.1975 - accuracy: 0.9275\n",
            "85/85 [==============================] - 3s 28ms/step - loss: 0.2148 - accuracy: 0.9232\n",
            "Najlepszy model:\n",
            "epoki: 15\n",
            "ilość neuronów: 30\n",
            "koszt: 0.214755117893219\n",
            "dokładność: 0.9232195615768433\n"
          ]
        }
      ]
    }
  ]
}